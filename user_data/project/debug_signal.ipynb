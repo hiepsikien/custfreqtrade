{
 "cells": [
  {
   "cell_type": "code",
   "execution_count": 1,
   "metadata": {},
   "outputs": [],
   "source": [
    "import pandas as pd\n"
   ]
  },
  {
   "cell_type": "code",
   "execution_count": 2,
   "metadata": {},
   "outputs": [],
   "source": [
    "df = pd.read_csv(\"../../calculated_signal.csv\")"
   ]
  },
  {
   "cell_type": "code",
   "execution_count": 3,
   "metadata": {},
   "outputs": [],
   "source": [
    "row = df.iloc[1000]"
   ]
  },
  {
   "cell_type": "code",
   "execution_count": 10,
   "metadata": {},
   "outputs": [
    {
     "data": {
      "text/plain": [
       "Unnamed: 0                                                           1000\n",
       "longs                   ['RLC/USDT:USDT', 'QTUM/USDT:USDT', 'ONT/USDT:...\n",
       "shorts                  ['HNT/USDT:USDT', 'ENJ/USDT:USDT', 'SAND/USDT:...\n",
       "date                                            2021-08-07 20:00:00+00:00\n",
       "SOL/USDT:USDT_LONG                                                      0\n",
       "                                              ...                        \n",
       "SAND/USDT:USDT_SHORT                                                    1\n",
       "ENJ/USDT:USDT_LONG                                                      0\n",
       "ENJ/USDT:USDT_SHORT                                                     1\n",
       "XLM/USDT:USDT_LONG                                                      0\n",
       "XLM/USDT:USDT_SHORT                                                     0\n",
       "Name: 1000, Length: 148, dtype: object"
      ]
     },
     "execution_count": 10,
     "metadata": {},
     "output_type": "execute_result"
    }
   ],
   "source": [
    "row"
   ]
  },
  {
   "cell_type": "code",
   "execution_count": 14,
   "metadata": {},
   "outputs": [
    {
     "data": {
      "text/plain": [
       "\"['HNT/USDT:USDT', 'ENJ/USDT:USDT', 'SAND/USDT:USDT', 'KAVA/USDT:USDT', 'ALGO/USDT:USDT']\""
      ]
     },
     "execution_count": 14,
     "metadata": {},
     "output_type": "execute_result"
    }
   ],
   "source": [
    "row[\"shorts\"]"
   ]
  },
  {
   "cell_type": "code",
   "execution_count": 8,
   "metadata": {},
   "outputs": [
    {
     "data": {
      "text/plain": [
       "\"['RLC/USDT:USDT', 'QTUM/USDT:USDT', 'ONT/USDT:USDT', 'AVAX/USDT:USDT', 'OCEAN/USDT:USDT']\""
      ]
     },
     "execution_count": 8,
     "metadata": {},
     "output_type": "execute_result"
    }
   ],
   "source": [
    "row[\"longs\"]"
   ]
  },
  {
   "cell_type": "code",
   "execution_count": 15,
   "metadata": {},
   "outputs": [
    {
     "data": {
      "text/plain": [
       "1"
      ]
     },
     "execution_count": 15,
     "metadata": {},
     "output_type": "execute_result"
    }
   ],
   "source": [
    "row[\"HNT/USDT:USDT_SHORT\"]"
   ]
  },
  {
   "cell_type": "code",
   "execution_count": 17,
   "metadata": {},
   "outputs": [
    {
     "data": {
      "text/html": [
       "<div>\n",
       "<style scoped>\n",
       "    .dataframe tbody tr th:only-of-type {\n",
       "        vertical-align: middle;\n",
       "    }\n",
       "\n",
       "    .dataframe tbody tr th {\n",
       "        vertical-align: top;\n",
       "    }\n",
       "\n",
       "    .dataframe thead th {\n",
       "        text-align: right;\n",
       "    }\n",
       "</style>\n",
       "<table border=\"1\" class=\"dataframe\">\n",
       "  <thead>\n",
       "    <tr style=\"text-align: right;\">\n",
       "      <th></th>\n",
       "      <th>Unnamed: 0</th>\n",
       "      <th>longs</th>\n",
       "      <th>shorts</th>\n",
       "      <th>date</th>\n",
       "      <th>SOL/USDT:USDT_LONG</th>\n",
       "      <th>SOL/USDT:USDT_SHORT</th>\n",
       "      <th>UNFI/USDT:USDT_LONG</th>\n",
       "      <th>UNFI/USDT:USDT_SHORT</th>\n",
       "      <th>KAVA/USDT:USDT_LONG</th>\n",
       "      <th>KAVA/USDT:USDT_SHORT</th>\n",
       "      <th>...</th>\n",
       "      <th>DASH/USDT:USDT_LONG</th>\n",
       "      <th>DASH/USDT:USDT_SHORT</th>\n",
       "      <th>COMP/USDT:USDT_LONG</th>\n",
       "      <th>COMP/USDT:USDT_SHORT</th>\n",
       "      <th>SAND/USDT:USDT_LONG</th>\n",
       "      <th>SAND/USDT:USDT_SHORT</th>\n",
       "      <th>ENJ/USDT:USDT_LONG</th>\n",
       "      <th>ENJ/USDT:USDT_SHORT</th>\n",
       "      <th>XLM/USDT:USDT_LONG</th>\n",
       "      <th>XLM/USDT:USDT_SHORT</th>\n",
       "    </tr>\n",
       "  </thead>\n",
       "  <tbody>\n",
       "    <tr>\n",
       "      <th>1413</th>\n",
       "      <td>1413</td>\n",
       "      <td>['RLC/USDT:USDT', 'UNFI/USDT:USDT', 'NEAR/USDT...</td>\n",
       "      <td>['REN/USDT:USDT', 'SAND/USDT:USDT', 'THETA/USD...</td>\n",
       "      <td>2021-10-15 16:00:00+00:00</td>\n",
       "      <td>0</td>\n",
       "      <td>1</td>\n",
       "      <td>1</td>\n",
       "      <td>0</td>\n",
       "      <td>0</td>\n",
       "      <td>1</td>\n",
       "      <td>...</td>\n",
       "      <td>0</td>\n",
       "      <td>0</td>\n",
       "      <td>0</td>\n",
       "      <td>0</td>\n",
       "      <td>0</td>\n",
       "      <td>1</td>\n",
       "      <td>0</td>\n",
       "      <td>0</td>\n",
       "      <td>1</td>\n",
       "      <td>0</td>\n",
       "    </tr>\n",
       "  </tbody>\n",
       "</table>\n",
       "<p>1 rows × 148 columns</p>\n",
       "</div>"
      ],
      "text/plain": [
       "      Unnamed: 0                                              longs  \\\n",
       "1413        1413  ['RLC/USDT:USDT', 'UNFI/USDT:USDT', 'NEAR/USDT...   \n",
       "\n",
       "                                                 shorts  \\\n",
       "1413  ['REN/USDT:USDT', 'SAND/USDT:USDT', 'THETA/USD...   \n",
       "\n",
       "                           date  SOL/USDT:USDT_LONG  SOL/USDT:USDT_SHORT  \\\n",
       "1413  2021-10-15 16:00:00+00:00                   0                    1   \n",
       "\n",
       "      UNFI/USDT:USDT_LONG  UNFI/USDT:USDT_SHORT  KAVA/USDT:USDT_LONG  \\\n",
       "1413                    1                     0                    0   \n",
       "\n",
       "      KAVA/USDT:USDT_SHORT  ...  DASH/USDT:USDT_LONG  DASH/USDT:USDT_SHORT  \\\n",
       "1413                     1  ...                    0                     0   \n",
       "\n",
       "      COMP/USDT:USDT_LONG  COMP/USDT:USDT_SHORT  SAND/USDT:USDT_LONG  \\\n",
       "1413                    0                     0                    0   \n",
       "\n",
       "      SAND/USDT:USDT_SHORT  ENJ/USDT:USDT_LONG  ENJ/USDT:USDT_SHORT  \\\n",
       "1413                     1                   0                    0   \n",
       "\n",
       "      XLM/USDT:USDT_LONG  XLM/USDT:USDT_SHORT  \n",
       "1413                   1                    0  \n",
       "\n",
       "[1 rows x 148 columns]"
      ]
     },
     "execution_count": 17,
     "metadata": {},
     "output_type": "execute_result"
    }
   ],
   "source": [
    "df[df[\"date\"]==\"2021-10-15 16:00:00+00:00\"]"
   ]
  },
  {
   "cell_type": "code",
   "execution_count": null,
   "metadata": {},
   "outputs": [],
   "source": []
  }
 ],
 "metadata": {
  "kernelspec": {
   "display_name": ".env",
   "language": "python",
   "name": "python3"
  },
  "language_info": {
   "codemirror_mode": {
    "name": "ipython",
    "version": 3
   },
   "file_extension": ".py",
   "mimetype": "text/x-python",
   "name": "python",
   "nbconvert_exporter": "python",
   "pygments_lexer": "ipython3",
   "version": "3.10.8"
  },
  "orig_nbformat": 4
 },
 "nbformat": 4,
 "nbformat_minor": 2
}
