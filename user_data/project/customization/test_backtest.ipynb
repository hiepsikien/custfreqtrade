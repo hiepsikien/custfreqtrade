{
 "cells": [
  {
   "cell_type": "code",
   "execution_count": null,
   "metadata": {},
   "outputs": [],
   "source": [
    "True + 2 "
   ]
  },
  {
   "cell_type": "code",
   "execution_count": null,
   "metadata": {},
   "outputs": [],
   "source": [
    "import sys\n",
    "sys.path.append(\"/home/andy/CryptoTradingPlatform/freqtrade\")\n",
    "from freqtrade.optimize.backtesting import Backtesting\n",
    "from freqtrade.optimize.backtesting\n",
    "from freqtrade.commands.optimize_commands import setup_optimize_configuration\n",
    "from freqtrade.enums import RunMode\n",
    "from freqtrade.configuration.configuration import load_from_files\n",
    "import os\n",
    "from pathlib import Path\n",
    "import rapidjson\n",
    "from freqtrade.commands.arguments import Arguments"
   ]
  },
  {
   "cell_type": "code",
   "execution_count": null,
   "metadata": {},
   "outputs": [],
   "source": [
    "args = {\n",
    "    \"config\":\"config.json\",\n",
    "    \"strategy\":\"SampleStrategy\",\n",
    "    \"timerange\": \"20220201-\",\n",
    "    \"userdir\": f\"project_path/user_data\"\n",
    "}"
   ]
  },
  {
   "cell_type": "code",
   "execution_count": null,
   "metadata": {},
   "outputs": [],
   "source": [
    "sysargv = [\n",
    "    \"backtesting\",\n",
    "    \"--config\",\n",
    "    \"config.json\",\n",
    "    \"--strategy\",\n",
    "    \"SampleStrategy\",\n",
    "    \"--timerange\",\n",
    "    \"20220201-\",\n",
    "]"
   ]
  },
  {
   "cell_type": "code",
   "execution_count": null,
   "metadata": {},
   "outputs": [],
   "source": [
    "arguments = Arguments(sysargv)"
   ]
  },
  {
   "cell_type": "code",
   "execution_count": null,
   "metadata": {},
   "outputs": [],
   "source": [
    "args = arguments.get_parsed_arg()"
   ]
  },
  {
   "cell_type": "code",
   "execution_count": null,
   "metadata": {},
   "outputs": [],
   "source": [
    "args"
   ]
  },
  {
   "cell_type": "code",
   "execution_count": null,
   "metadata": {},
   "outputs": [],
   "source": [
    "config = setup_optimize_configuration(args, RunMode.BACKTEST)"
   ]
  },
  {
   "cell_type": "code",
   "execution_count": null,
   "metadata": {},
   "outputs": [],
   "source": [
    "config"
   ]
  },
  {
   "cell_type": "code",
   "execution_count": null,
   "metadata": {},
   "outputs": [],
   "source": [
    "%store -r tickers"
   ]
  },
  {
   "cell_type": "code",
   "execution_count": null,
   "metadata": {},
   "outputs": [],
   "source": [
    "tickers"
   ]
  },
  {
   "cell_type": "code",
   "execution_count": null,
   "metadata": {},
   "outputs": [],
   "source": [
    "import re"
   ]
  },
  {
   "cell_type": "code",
   "execution_count": null,
   "metadata": {},
   "outputs": [],
   "source": [
    "whitelist_pairs = []\n",
    "for ticker in tickers:\n",
    "    symbol = ticker[\"symbol\"]\n",
    "    if str(symbol).endswith(\"USDT\"):\n",
    "        l = re.compile((\"USDT\")).split(symbol)\n",
    "        whitelist_pairs.append(f\"{l[0]}/USDT:USDT\")"
   ]
  },
  {
   "cell_type": "code",
   "execution_count": null,
   "metadata": {},
   "outputs": [],
   "source": [
    "%store whitelist_pairs"
   ]
  },
  {
   "cell_type": "code",
   "execution_count": null,
   "metadata": {},
   "outputs": [],
   "source": [
    "!freqtrade download-data --timerange 20200101- --pairs-file user_data/whitelist_pairs.json -t 4h --exchange binance"
   ]
  },
  {
   "cell_type": "code",
   "execution_count": null,
   "metadata": {},
   "outputs": [],
   "source": []
  }
 ],
 "metadata": {
  "kernelspec": {
   "display_name": "tensor",
   "language": "python",
   "name": "python3"
  },
  "language_info": {
   "codemirror_mode": {
    "name": "ipython",
    "version": 3
   },
   "file_extension": ".py",
   "mimetype": "text/x-python",
   "name": "python",
   "nbconvert_exporter": "python",
   "pygments_lexer": "ipython3",
   "version": "3.10.8"
  },
  "orig_nbformat": 4
 },
 "nbformat": 4,
 "nbformat_minor": 2
}
