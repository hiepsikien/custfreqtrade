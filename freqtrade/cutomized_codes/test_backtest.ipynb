{
 "cells": [
  {
   "cell_type": "code",
   "execution_count": 1,
   "metadata": {},
   "outputs": [
    {
     "data": {
      "text/plain": [
       "3"
      ]
     },
     "execution_count": 1,
     "metadata": {},
     "output_type": "execute_result"
    }
   ],
   "source": [
    "True + 2 "
   ]
  },
  {
   "cell_type": "code",
   "execution_count": null,
   "metadata": {},
   "outputs": [],
   "source": [
    "import sys\n",
    "sys.path.append(\"/home/andy/CryptoTradingPlatform/freqtrade\")\n",
    "from freqtrade.optimize.backtesting import Backtesting\n",
    "from freqtrade.optimize.backtesting\n",
    "from freqtrade.commands.optimize_commands import setup_optimize_configuration\n",
    "from freqtrade.enums import RunMode\n",
    "from freqtrade.configuration.configuration import load_from_files\n",
    "import os\n",
    "from pathlib import Path\n",
    "import rapidjson\n",
    "from freqtrade.commands.arguments import Arguments"
   ]
  },
  {
   "cell_type": "code",
   "execution_count": null,
   "metadata": {},
   "outputs": [],
   "source": [
    "args = {\n",
    "    \"config\":\"config.json\",\n",
    "    \"strategy\":\"SampleStrategy\",\n",
    "    \"timerange\": \"20220201-\",\n",
    "    \"userdir\": f\"project_path/user_data\"\n",
    "}"
   ]
  },
  {
   "cell_type": "code",
   "execution_count": null,
   "metadata": {},
   "outputs": [],
   "source": [
    "sysargv = [\n",
    "    \"backtesting\",\n",
    "    \"--config\",\n",
    "    \"config.json\",\n",
    "    \"--strategy\",\n",
    "    \"SampleStrategy\",\n",
    "    \"--timerange\",\n",
    "    \"20220201-\",\n",
    "]"
   ]
  },
  {
   "cell_type": "code",
   "execution_count": null,
   "metadata": {},
   "outputs": [],
   "source": [
    "arguments = Arguments(sysargv)"
   ]
  },
  {
   "cell_type": "code",
   "execution_count": null,
   "metadata": {},
   "outputs": [],
   "source": [
    "args = arguments.get_parsed_arg()"
   ]
  },
  {
   "cell_type": "code",
   "execution_count": null,
   "metadata": {},
   "outputs": [],
   "source": [
    "args"
   ]
  },
  {
   "cell_type": "code",
   "execution_count": null,
   "metadata": {},
   "outputs": [],
   "source": [
    "config = setup_optimize_configuration(args, RunMode.BACKTEST)"
   ]
  },
  {
   "cell_type": "code",
   "execution_count": null,
   "metadata": {},
   "outputs": [],
   "source": [
    "config"
   ]
  },
  {
   "cell_type": "code",
   "execution_count": null,
   "metadata": {},
   "outputs": [],
   "source": [
    "%store -r tickers"
   ]
  },
  {
   "cell_type": "code",
   "execution_count": null,
   "metadata": {},
   "outputs": [],
   "source": [
    "tickers"
   ]
  },
  {
   "cell_type": "code",
   "execution_count": null,
   "metadata": {},
   "outputs": [],
   "source": [
    "import re"
   ]
  },
  {
   "cell_type": "code",
   "execution_count": null,
   "metadata": {},
   "outputs": [],
   "source": [
    "whitelist_pairs = []\n",
    "for ticker in tickers:\n",
    "    symbol = ticker[\"symbol\"]\n",
    "    if str(symbol).endswith(\"USDT\"):\n",
    "        l = re.compile((\"USDT\")).split(symbol)\n",
    "        whitelist_pairs.append(f\"{l[0]}/USDT:USDT\")"
   ]
  },
  {
   "cell_type": "code",
   "execution_count": 16,
   "metadata": {},
   "outputs": [
    {
     "name": "stdout",
     "output_type": "stream",
     "text": [
      "Stored 'whitelist_pairs' (list)\n"
     ]
    }
   ],
   "source": [
    "%store whitelist_pairs"
   ]
  },
  {
   "cell_type": "code",
   "execution_count": 22,
   "metadata": {},
   "outputs": [
    {
     "name": "stdout",
     "output_type": "stream",
     "text": [
      "2023-03-12 02:44:32,257 - freqtrade - INFO - freqtrade 2023.3.dev-8726a4645\n",
      "2023-03-12 02:44:32,257 - freqtrade.configuration.load_config - INFO - Using config: user_data/config.json ...\n",
      "2023-03-12 02:44:32,258 - freqtrade.loggers - INFO - Verbosity set to 0\n",
      "2023-03-12 02:44:32,259 - freqtrade.configuration.configuration - INFO - Parameter --timerange detected: 20200101- ...\n",
      "2023-03-12 02:44:32,259 - freqtrade.configuration.configuration - INFO - Using exchange binance\n",
      "2023-03-12 02:44:32,259 - freqtrade.configuration.configuration - INFO - Using user-data directory: /home/andy/CryptoTradingPlatform/freqtrade/user_data ...\n",
      "2023-03-12 02:44:32,259 - freqtrade.configuration.configuration - INFO - Using data directory: /home/andy/CryptoTradingPlatform/freqtrade/user_data/data/binance ...\n",
      "2023-03-12 02:44:32,259 - freqtrade.configuration.configuration - INFO - timeframes --timeframes: ['4h']\n",
      "2023-03-12 02:44:32,260 - freqtrade.configuration.configuration - INFO - Filter trades by timerange: 20200101-\n",
      "2023-03-12 02:44:32,260 - freqtrade.exchange.check_exchange - INFO - Checking exchange...\n",
      "2023-03-12 02:44:32,285 - freqtrade.exchange.check_exchange - INFO - Exchange \"binance\" is officially supported by the Freqtrade development team.\n",
      "2023-03-12 02:44:32,285 - freqtrade.configuration.configuration - INFO - Reading pairs file \"user_data/whitelist_pairs.json\".\n",
      "2023-03-12 02:44:32,285 - freqtrade - ERROR - Fatal exception!\n",
      "Traceback (most recent call last):\n",
      "  File \"/home/andy/CryptoTradingPlatform/freqtrade/freqtrade/main.py\", line 42, in main\n",
      "    return_code = args['func'](args)\n",
      "  File \"/home/andy/CryptoTradingPlatform/freqtrade/freqtrade/commands/data_commands.py\", line 38, in start_download_data\n",
      "    config = setup_utils_configuration(args, RunMode.UTIL_EXCHANGE)\n",
      "  File \"/home/andy/CryptoTradingPlatform/freqtrade/freqtrade/configuration/config_setup.py\", line 21, in setup_utils_configuration\n",
      "    config = configuration.get_config()\n",
      "  File \"/home/andy/CryptoTradingPlatform/freqtrade/freqtrade/configuration/configuration.py\", line 42, in get_config\n",
      "    self.config = self.load_config()\n",
      "  File \"/home/andy/CryptoTradingPlatform/freqtrade/freqtrade/configuration/configuration.py\", line 108, in load_config\n",
      "    self._resolve_pairs_list(config)\n",
      "  File \"/home/andy/CryptoTradingPlatform/freqtrade/freqtrade/configuration/configuration.py\", line 534, in _resolve_pairs_list\n",
      "    config['pairs'] = load_file(pairs_file)\n",
      "  File \"/home/andy/CryptoTradingPlatform/freqtrade/freqtrade/configuration/load_config.py\", line 47, in load_file\n",
      "    config = rapidjson.load(file, parse_mode=CONFIG_PARSE_MODE)\n",
      "rapidjson.JSONDecodeError: Parse error at offset 6: Invalid value.\n"
     ]
    }
   ],
   "source": [
    "!freqtrade download-data --timerange 20200101- --pairs-file user_data/whitelist_pairs.json -t 4h --exchange binance"
   ]
  },
  {
   "cell_type": "code",
   "execution_count": null,
   "metadata": {},
   "outputs": [],
   "source": []
  }
 ],
 "metadata": {
  "kernelspec": {
   "display_name": "tensor",
   "language": "python",
   "name": "python3"
  },
  "language_info": {
   "codemirror_mode": {
    "name": "ipython",
    "version": 3
   },
   "file_extension": ".py",
   "mimetype": "text/x-python",
   "name": "python",
   "nbconvert_exporter": "python",
   "pygments_lexer": "ipython3",
   "version": "3.10.8"
  },
  "orig_nbformat": 4
 },
 "nbformat": 4,
 "nbformat_minor": 2
}
